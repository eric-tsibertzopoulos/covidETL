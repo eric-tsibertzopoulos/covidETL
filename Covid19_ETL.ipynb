{
 "cells": [
  {
   "cell_type": "markdown",
   "metadata": {},
   "source": [
    "# COVID-19 Daily Data Collection - An ETL process for Pandemic Data"
   ]
  },
  {
   "cell_type": "markdown",
   "metadata": {},
   "source": [
    "### Eric Tsibertzopoulos, Ken Brooks - Oasys Inc.    \n",
    "#### November 2020"
   ]
  },
  {
   "cell_type": "markdown",
   "metadata": {},
   "source": [
    "**Rational**: Leverage R processing on the Spark Cluster with support for Detla-Lake transactional data storage "
   ]
  },
  {
   "cell_type": "markdown",
   "metadata": {},
   "source": [
    "Technical capability demontrated:\n",
    "* Web Scraping and Data Refinery with R\n",
    "* R Data Visualization\n",
    "* Data WRITE/READ to/from Delta-Lake\n",
    "* Spark Cluster based data partitioning\n",
    "* Spark data aggregation"
   ]
  },
  {
   "cell_type": "markdown",
   "metadata": {},
   "source": [
    "Spark Cluster\n",
    "![cluster](./data/cluster.png)"
   ]
  },
  {
   "cell_type": "markdown",
   "metadata": {},
   "source": [
    "Data Science Stack:\n",
    "* Jupyter 6.0.6\n",
    "* R 3.6.0  (dplyr, sparklyr, ggplot2, rvest)\n",
    "* Apache Spark 2.4.5\n",
    "* Delta-Lake 0.4.0\n",
    "* Windows 10"
   ]
  },
  {
   "cell_type": "code",
   "execution_count": 34,
   "metadata": {},
   "outputs": [],
   "source": [
    "# Load necessary R data libraries\n",
    "library(sparklyr)  # Interface to Apache Spark\n",
    "library(dplyr)     # Data Refinery/wrangling\n",
    "library(ggplot2)   # Data Visualization\n",
    "library(rvest)     # Web Scraping"
   ]
  },
  {
   "cell_type": "code",
   "execution_count": 35,
   "metadata": {},
   "outputs": [],
   "source": [
    "# Set up spark configuration to load the JAR file containing the Delta-Lake API (dependency for SparklyR)\n",
    "configuration <- spark_config()\n",
    "configuration$`sparklyr.jars.default` <- c(\"C://spark-2.4.5//jars//delta-core_2.11-0.4.0.jar\")"
   ]
  },
  {
   "cell_type": "code",
   "execution_count": 36,
   "metadata": {},
   "outputs": [],
   "source": [
    "# Connect to Spark Cluster with custom configuration\n",
    "sc<- spark_connect(master=\"spark://10.146.96.109:7077\", version=\"2.4.5\", app_name = \"COVID-19_ETL\", config=configuration)"
   ]
  },
  {
   "cell_type": "markdown",
   "metadata": {},
   "source": [
    "[Source](https://www.worldometers.info/coronavirus/) Data for Covid-19"
   ]
  },
  {
   "cell_type": "code",
   "execution_count": 37,
   "metadata": {},
   "outputs": [
    {
     "name": "stderr",
     "output_type": "stream",
     "text": [
      "Warning message in eval(expr, envir, enclos):\n",
      "\"NAs introduced by coercion\"\n",
      "Warning message in eval(expr, envir, enclos):\n",
      "\"NAs introduced by coercion\"\n",
      "Warning message in eval(expr, envir, enclos):\n",
      "\"NAs introduced by coercion\"\n"
     ]
    }
   ],
   "source": [
    "# Covid Data Source online:\n",
    "url<-\"https://www.worldometers.info/coronavirus/\"\n",
    "\n",
    "#Scrape Web data from table with ID: main_table_countries_today\n",
    "data <- url %>%\n",
    "  read_html() %>%\n",
    "  html_nodes(\"#main_table_countries_today\") %>%\n",
    "  html_table()\n",
    "\n",
    "# Clean up some not needed rows and columns\n",
    "df<-as.data.frame(data[1], stringsAsFactors = F)\n",
    "df<-df[-(1:8),]\n",
    "df<-subset(df, df$Country.Other != \"Total:\")\n",
    "df<-df[,-c(1,17,18,19)]\n",
    "colnames(df)<-c(\"Country\",\"TotalCases\",\"NewCases\",\"TotalDeaths\",\"NewDeaths\",\"TotalRecovered\",\"NewRecovered\",\"ActiveCases\",\"Critical\",\"TotalCases1Mpop\", \"Deaths1Mpop\",\"TotalTests\",\"Tests1Mpop\",\"Population\",\"Continent\")\n",
    "\n",
    "# Transform key columns to numerics\n",
    "df$TotalCases<-as.numeric(gsub(\",\", \"\", df$TotalCases))\n",
    "df$NewCases<-as.numeric(gsub(\",\", \"\", df$NewCases))\n",
    "df$TotalDeaths<-as.numeric(gsub(\",\", \"\", df$TotalDeaths))\n",
    "df$NewDeaths<-as.numeric(gsub(\",\", \"\", df$NewDeaths))\n",
    "df$TotalRecovered<-as.numeric(gsub(\",\", \"\", df$TotalRecovered))\n",
    "df$NewRecovered<-as.numeric(gsub(\",\", \"\", df$NewRecovered))\n",
    "df$ActiveCases<-as.numeric(gsub(\",\", \"\", df$ActiveCases))\n",
    "df$Critical<-as.numeric(gsub(\",\", \"\", df$Critical))\n",
    "df$TotalCases1Mpop<-as.numeric(gsub(\",\", \"\", df$TotalCases1Mpop))\n",
    "df$Deaths1Mpop<-as.numeric(gsub(\",\", \"\", df$Deaths1Mpop))\n",
    "df$TotalTests<-as.numeric(gsub(\",\", \"\", df$TotalTests))\n",
    "df$Tests1Mpop<-as.numeric(gsub(\",\", \"\", df$Tests1Mpop))\n",
    "df$Population<-as.numeric(gsub(\",\", \"\", df$Population))\n",
    "# Mutation: Add a new column for the ETL data-collection data\n",
    "df$date<-Sys.Date()"
   ]
  },
  {
   "cell_type": "code",
   "execution_count": 48,
   "metadata": {},
   "outputs": [
    {
     "data": {
      "text/html": [
       "<table>\n",
       "<caption>A data.frame: 10 × 9</caption>\n",
       "<thead>\n",
       "\t<tr><th></th><th scope=col>Country</th><th scope=col>TotalCases</th><th scope=col>NewCases</th><th scope=col>TotalDeaths</th><th scope=col>NewDeaths</th><th scope=col>TotalRecovered</th><th scope=col>NewRecovered</th><th scope=col>ActiveCases</th><th scope=col>Critical</th></tr>\n",
       "\t<tr><th></th><th scope=col>&lt;chr&gt;</th><th scope=col>&lt;dbl&gt;</th><th scope=col>&lt;dbl&gt;</th><th scope=col>&lt;dbl&gt;</th><th scope=col>&lt;dbl&gt;</th><th scope=col>&lt;dbl&gt;</th><th scope=col>&lt;dbl&gt;</th><th scope=col>&lt;dbl&gt;</th><th scope=col>&lt;dbl&gt;</th></tr>\n",
       "</thead>\n",
       "<tbody>\n",
       "\t<tr><th scope=row>9</th><td>USA      </td><td>10559184</td><td>NA</td><td>245799</td><td>NA</td><td>6601331</td><td>NA</td><td>3712054</td><td>19374</td></tr>\n",
       "\t<tr><th scope=row>10</th><td>India    </td><td> 8635754</td><td>NA</td><td>127615</td><td>NA</td><td>8011844</td><td>NA</td><td> 496295</td><td> 8944</td></tr>\n",
       "\t<tr><th scope=row>11</th><td>Brazil   </td><td> 5701283</td><td>NA</td><td>162842</td><td>NA</td><td>5064344</td><td>NA</td><td> 474097</td><td> 8318</td></tr>\n",
       "\t<tr><th scope=row>12</th><td>France   </td><td> 1829659</td><td>NA</td><td> 42207</td><td>NA</td><td> 131920</td><td>NA</td><td>1655532</td><td> 4750</td></tr>\n",
       "\t<tr><th scope=row>13</th><td>Russia   </td><td> 1817109</td><td>NA</td><td> 31161</td><td>NA</td><td>1350741</td><td>NA</td><td> 435207</td><td> 2300</td></tr>\n",
       "\t<tr><th scope=row>14</th><td>Spain    </td><td> 1443997</td><td>NA</td><td> 39756</td><td>NA</td><td>     NA</td><td>NA</td><td>     NA</td><td> 3064</td></tr>\n",
       "\t<tr><th scope=row>15</th><td>Argentina</td><td> 1262476</td><td>NA</td><td> 34183</td><td>NA</td><td>1081897</td><td>NA</td><td> 146396</td><td> 4494</td></tr>\n",
       "\t<tr><th scope=row>16</th><td>UK       </td><td> 1233775</td><td>NA</td><td> 49770</td><td>NA</td><td>     NA</td><td>NA</td><td>     NA</td><td> 1268</td></tr>\n",
       "\t<tr><th scope=row>17</th><td>Colombia </td><td> 1156675</td><td>NA</td><td> 33148</td><td>NA</td><td>1059237</td><td>NA</td><td>  64290</td><td> 2376</td></tr>\n",
       "\t<tr><th scope=row>18</th><td>Italy    </td><td>  995463</td><td>NA</td><td> 42330</td><td>NA</td><td> 363023</td><td>NA</td><td> 590110</td><td> 2971</td></tr>\n",
       "</tbody>\n",
       "</table>\n"
      ],
      "text/latex": [
       "A data.frame: 10 × 9\n",
       "\\begin{tabular}{r|lllllllll}\n",
       "  & Country & TotalCases & NewCases & TotalDeaths & NewDeaths & TotalRecovered & NewRecovered & ActiveCases & Critical\\\\\n",
       "  & <chr> & <dbl> & <dbl> & <dbl> & <dbl> & <dbl> & <dbl> & <dbl> & <dbl>\\\\\n",
       "\\hline\n",
       "\t9 & USA       & 10559184 & NA & 245799 & NA & 6601331 & NA & 3712054 & 19374\\\\\n",
       "\t10 & India     &  8635754 & NA & 127615 & NA & 8011844 & NA &  496295 &  8944\\\\\n",
       "\t11 & Brazil    &  5701283 & NA & 162842 & NA & 5064344 & NA &  474097 &  8318\\\\\n",
       "\t12 & France    &  1829659 & NA &  42207 & NA &  131920 & NA & 1655532 &  4750\\\\\n",
       "\t13 & Russia    &  1817109 & NA &  31161 & NA & 1350741 & NA &  435207 &  2300\\\\\n",
       "\t14 & Spain     &  1443997 & NA &  39756 & NA &      NA & NA &      NA &  3064\\\\\n",
       "\t15 & Argentina &  1262476 & NA &  34183 & NA & 1081897 & NA &  146396 &  4494\\\\\n",
       "\t16 & UK        &  1233775 & NA &  49770 & NA &      NA & NA &      NA &  1268\\\\\n",
       "\t17 & Colombia  &  1156675 & NA &  33148 & NA & 1059237 & NA &   64290 &  2376\\\\\n",
       "\t18 & Italy     &   995463 & NA &  42330 & NA &  363023 & NA &  590110 &  2971\\\\\n",
       "\\end{tabular}\n"
      ],
      "text/markdown": [
       "\n",
       "A data.frame: 10 × 9\n",
       "\n",
       "| <!--/--> | Country &lt;chr&gt; | TotalCases &lt;dbl&gt; | NewCases &lt;dbl&gt; | TotalDeaths &lt;dbl&gt; | NewDeaths &lt;dbl&gt; | TotalRecovered &lt;dbl&gt; | NewRecovered &lt;dbl&gt; | ActiveCases &lt;dbl&gt; | Critical &lt;dbl&gt; |\n",
       "|---|---|---|---|---|---|---|---|---|---|\n",
       "| 9 | USA       | 10559184 | NA | 245799 | NA | 6601331 | NA | 3712054 | 19374 |\n",
       "| 10 | India     |  8635754 | NA | 127615 | NA | 8011844 | NA |  496295 |  8944 |\n",
       "| 11 | Brazil    |  5701283 | NA | 162842 | NA | 5064344 | NA |  474097 |  8318 |\n",
       "| 12 | France    |  1829659 | NA |  42207 | NA |  131920 | NA | 1655532 |  4750 |\n",
       "| 13 | Russia    |  1817109 | NA |  31161 | NA | 1350741 | NA |  435207 |  2300 |\n",
       "| 14 | Spain     |  1443997 | NA |  39756 | NA |      NA | NA |      NA |  3064 |\n",
       "| 15 | Argentina |  1262476 | NA |  34183 | NA | 1081897 | NA |  146396 |  4494 |\n",
       "| 16 | UK        |  1233775 | NA |  49770 | NA |      NA | NA |      NA |  1268 |\n",
       "| 17 | Colombia  |  1156675 | NA |  33148 | NA | 1059237 | NA |   64290 |  2376 |\n",
       "| 18 | Italy     |   995463 | NA |  42330 | NA |  363023 | NA |  590110 |  2971 |\n",
       "\n"
      ],
      "text/plain": [
       "   Country   TotalCases NewCases TotalDeaths NewDeaths TotalRecovered\n",
       "9  USA       10559184   NA       245799      NA        6601331       \n",
       "10 India      8635754   NA       127615      NA        8011844       \n",
       "11 Brazil     5701283   NA       162842      NA        5064344       \n",
       "12 France     1829659   NA        42207      NA         131920       \n",
       "13 Russia     1817109   NA        31161      NA        1350741       \n",
       "14 Spain      1443997   NA        39756      NA             NA       \n",
       "15 Argentina  1262476   NA        34183      NA        1081897       \n",
       "16 UK         1233775   NA        49770      NA             NA       \n",
       "17 Colombia   1156675   NA        33148      NA        1059237       \n",
       "18 Italy       995463   NA        42330      NA         363023       \n",
       "   NewRecovered ActiveCases Critical\n",
       "9  NA           3712054     19374   \n",
       "10 NA            496295      8944   \n",
       "11 NA            474097      8318   \n",
       "12 NA           1655532      4750   \n",
       "13 NA            435207      2300   \n",
       "14 NA                NA      3064   \n",
       "15 NA            146396      4494   \n",
       "16 NA                NA      1268   \n",
       "17 NA             64290      2376   \n",
       "18 NA            590110      2971   "
      ]
     },
     "metadata": {},
     "output_type": "display_data"
    }
   ],
   "source": [
    "# Preview the R in-memory Data Frame\n",
    "head(df[,1:9], 10)"
   ]
  },
  {
   "cell_type": "code",
   "execution_count": 39,
   "metadata": {},
   "outputs": [
    {
     "name": "stderr",
     "output_type": "stream",
     "text": [
      "Using Country as id variables\n",
      "\n",
      "Warning message:\n",
      "\"Removed 3 rows containing missing values (position_stack).\"\n"
     ]
    },
    {
     "data": {
      "image/png": "[encoded data removed]",
      "text/plain": [
       "plot without title"
      ]
     },
     "metadata": {
      "image/png": {
       "height": 420,
       "width": 420
      },
      "text/plain": {
       "height": 420,
       "width": 420
      }
     },
     "output_type": "display_data"
    }
   ],
   "source": [
    "# Do a basic Data exploration for USA\n",
    "reshape2::melt(subset(df, df$Country==\"USA\")[,1:9]) %>% ggplot(aes(x=variable, y=value))+\n",
    "    geom_bar(stat=\"identity\") + \n",
    "    theme(axis.text.x = element_text(angle = 90, vjust = 0.5, hjust=1))"
   ]
  },
  {
   "cell_type": "code",
   "execution_count": 40,
   "metadata": {},
   "outputs": [],
   "source": [
    "# Copy the R in-memory data frame to Spark's memory, name it covid19\n",
    "covid_df<-copy_to(sc, df, \"covid19\", overwrite=T)"
   ]
  },
  {
   "cell_type": "code",
   "execution_count": 41,
   "metadata": {},
   "outputs": [],
   "source": [
    "# Write the Spark data frame to a Delta-Lake location in Delta format with Append mode, \n",
    "# and partition the data storage by Country\n",
    "spark_write_delta(covid_df,\"c://delta//covid19\", mode =\"append\", options = list(), partition_by =\"Country\" )"
   ]
  },
  {
   "cell_type": "code",
   "execution_count": 42,
   "metadata": {},
   "outputs": [],
   "source": [
    "# Read data from the Delta-Lake into Saprk's memory, overite any previous memory resident data frame \"covid19\"\n",
    "df2<-spark_read_delta(sc, \"c://delta//covid19\", \"covid19\", overwrite=T)"
   ]
  },
  {
   "cell_type": "code",
   "execution_count": 43,
   "metadata": {},
   "outputs": [
    {
     "name": "stdout",
     "output_type": "stream",
     "text": [
      "Rows: ??\n",
      "Columns: 16\n",
      "Database: spark_connection\n",
      "$ Country         \u001b[3m\u001b[90m<chr>\u001b[39m\u001b[23m \"Mexico\", \"Mexico\", \"Bolivia\", \"Bolivia\", \"Belize\",...\n",
      "$ TotalCases      \u001b[3m\u001b[90m<dbl>\u001b[39m\u001b[23m 978531, 978531, 142664, 142664, 4414, 507475, 34818...\n",
      "$ NewCases        \u001b[3m\u001b[90m<dbl>\u001b[39m\u001b[23m 5746, 5746, 103, 103, 184, 4293, 1708, 1708, 146, 1...\n",
      "$ TotalDeaths     \u001b[3m\u001b[90m<dbl>\u001b[39m\u001b[23m 95842, 95842, 8808, 8808, 73, 13561, 7021, 7021, 48...\n",
      "$ NewDeaths       \u001b[3m\u001b[90m<dbl>\u001b[39m\u001b[23m 617, 617, 6, 6, 2, 345, 21, 21, 2, 2, NaN, NaN, NaN...\n",
      "$ TotalRecovered  \u001b[3m\u001b[90m<dbl>\u001b[39m\u001b[23m 725846, 725846, 115199, 115199, 2440, 30504, 320065...\n",
      "$ NewRecovered    \u001b[3m\u001b[90m<dbl>\u001b[39m\u001b[23m 4770, 4770, 318, 318, 54, 708, 634, 634, 106, 106, ...\n",
      "$ ActiveCases     \u001b[3m\u001b[90m<dbl>\u001b[39m\u001b[23m 156843, 156843, 18657, 18657, 1901, 463410, 21098, ...\n",
      "$ Critical        \u001b[3m\u001b[90m<dbl>\u001b[39m\u001b[23m 2615, 2615, 71, 71, 3, 1474, 1109, 1109, 49, 49, Na...\n",
      "$ TotalCases1Mpop \u001b[3m\u001b[90m<dbl>\u001b[39m\u001b[23m 7561, 7561, 12162, 12162, 11029, 43718, 1565, 1565,...\n",
      "$ Deaths1Mpop     \u001b[3m\u001b[90m<dbl>\u001b[39m\u001b[23m 741, 741, 751, 751, 182, 1168, 32, 32, 9, 9, 5, 5, ...\n",
      "$ TotalTests      \u001b[3m\u001b[90m<dbl>\u001b[39m\u001b[23m 2537046, 2537046, 341225, 341225, 25690, 5321108, 4...\n",
      "$ Tests1Mpop      \u001b[3m\u001b[90m<dbl>\u001b[39m\u001b[23m 19603, 19603, 29089, 29089, 64192, 458403, 21461, 2...\n",
      "$ Population      \u001b[3m\u001b[90m<dbl>\u001b[39m\u001b[23m 129421248, 129421248, 11730231, 11730231, 400208, 1...\n",
      "$ Continent       \u001b[3m\u001b[90m<chr>\u001b[39m\u001b[23m \"North America\", \"North America\", \"South America\", ...\n",
      "$ date            \u001b[3m\u001b[90m<date>\u001b[39m\u001b[23m 2020-11-09, 2020-11-09, 2020-11-09, 2020-11-09, 20...\n"
     ]
    }
   ],
   "source": [
    "# Explore the Spark data frame\n",
    "glimpse(df2)"
   ]
  },
  {
   "cell_type": "code",
   "execution_count": 44,
   "metadata": {},
   "outputs": [
    {
     "data": {
      "text/html": [
       "<table>\n",
       "<caption>A tibble: 1 × 1</caption>\n",
       "<thead>\n",
       "\t<tr><th scope=col>total_NewCases</th></tr>\n",
       "\t<tr><th scope=col>&lt;dbl&gt;</th></tr>\n",
       "</thead>\n",
       "<tbody>\n",
       "\t<tr><td>21065</td></tr>\n",
       "</tbody>\n",
       "</table>\n"
      ],
      "text/latex": [
       "A tibble: 1 × 1\n",
       "\\begin{tabular}{l}\n",
       " total\\_NewCases\\\\\n",
       " <dbl>\\\\\n",
       "\\hline\n",
       "\t 21065\\\\\n",
       "\\end{tabular}\n"
      ],
      "text/markdown": [
       "\n",
       "A tibble: 1 × 1\n",
       "\n",
       "| total_NewCases &lt;dbl&gt; |\n",
       "|---|\n",
       "| 21065 |\n",
       "\n"
      ],
      "text/plain": [
       "  total_NewCases\n",
       "1 21065         "
      ]
     },
     "metadata": {},
     "output_type": "display_data"
    }
   ],
   "source": [
    "# Aggregate all NewCases in the data frame and collect the metric in R memory\n",
    "df2 %>% summarise(total_NewCases = sum(NewCases,na.rm=T)) %>% collect()"
   ]
  },
  {
   "cell_type": "code",
   "execution_count": 45,
   "metadata": {},
   "outputs": [
    {
     "data": {
      "text/html": [
       "<table>\n",
       "<caption>A tibble: 1 × 1</caption>\n",
       "<thead>\n",
       "\t<tr><th scope=col>total_NewCases</th></tr>\n",
       "\t<tr><th scope=col>&lt;dbl&gt;</th></tr>\n",
       "</thead>\n",
       "<tbody>\n",
       "\t<tr><td>NaN</td></tr>\n",
       "</tbody>\n",
       "</table>\n"
      ],
      "text/latex": [
       "A tibble: 1 × 1\n",
       "\\begin{tabular}{l}\n",
       " total\\_NewCases\\\\\n",
       " <dbl>\\\\\n",
       "\\hline\n",
       "\t NaN\\\\\n",
       "\\end{tabular}\n"
      ],
      "text/markdown": [
       "\n",
       "A tibble: 1 × 1\n",
       "\n",
       "| total_NewCases &lt;dbl&gt; |\n",
       "|---|\n",
       "| NaN |\n",
       "\n"
      ],
      "text/plain": [
       "  total_NewCases\n",
       "1 NaN           "
      ]
     },
     "metadata": {},
     "output_type": "display_data"
    }
   ],
   "source": [
    "# Aggregate all NewCases for USA in the data frame and collect the metric in R memory\n",
    "df2 %>% filter(Country==\"USA\") %>% summarise(total_NewCases = sum(NewCases,na.rm=T)) %>% collect()"
   ]
  },
  {
   "cell_type": "code",
   "execution_count": 33,
   "metadata": {},
   "outputs": [],
   "source": [
    "# Disconnect from the cluster\n",
    "spark_disconnect(sc)"
   ]
  }
 ],
 "metadata": {
  "kernelspec": {
   "display_name": "R",
   "language": "R",
   "name": "ir"
  },
  "language_info": {
   "codemirror_mode": "r",
   "file_extension": ".r",
   "mimetype": "text/x-r-source",
   "name": "R",
   "pygments_lexer": "r",
   "version": "3.6.0"
  }
 },
 "nbformat": 4,
 "nbformat_minor": 4
}
